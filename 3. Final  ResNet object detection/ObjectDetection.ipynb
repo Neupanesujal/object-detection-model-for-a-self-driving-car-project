{
 "cells": [
  {
   "cell_type": "code",
   "execution_count": 1,
   "metadata": {},
   "outputs": [
    {
     "name": "stdout",
     "output_type": "stream",
     "text": [
      "PyTorch version: 2.3.0+cu121\n",
      "CUDA available: True\n",
      "CUDA version: 12.1\n",
      "CUDA device: NVIDIA GeForce GTX 1650 Ti\n",
      "CUDA device count: 1\n",
      "CUDA current device: 0\n",
      "CUDA memory allocated: 0.00 MB\n",
      "CUDA memory reserved: 0.00 MB\n"
     ]
    }
   ],
   "source": [
    "import torch\n",
    "\n",
    "print(f\"PyTorch version: {torch.__version__}\")\n",
    "print(f\"CUDA available: {torch.cuda.is_available()}\")\n",
    "if torch.cuda.is_available():\n",
    "    print(f\"CUDA version: {torch.version.cuda}\")\n",
    "    print(f\"CUDA device: {torch.cuda.get_device_name(0)}\")\n",
    "    print(f\"CUDA device count: {torch.cuda.device_count()}\")\n",
    "    print(f\"CUDA current device: {torch.cuda.current_device()}\")\n",
    "    print(f\"CUDA memory allocated: {torch.cuda.memory_allocated(0) / 1e6:.2f} MB\")\n",
    "    print(f\"CUDA memory reserved: {torch.cuda.memory_reserved(0) / 1e6:.2f} MB\")"
   ]
  },
  {
   "cell_type": "code",
   "execution_count": 2,
   "metadata": {},
   "outputs": [
    {
     "name": "stdout",
     "output_type": "stream",
     "text": [
      "Requirement already satisfied: pandas in c:\\users\\sujal\\appdata\\local\\programs\\python\\python310\\lib\\site-packages (2.2.2)\n",
      "Requirement already satisfied: matplotlib in c:\\users\\sujal\\appdata\\local\\programs\\python\\python310\\lib\\site-packages (3.8.4)\n"
     ]
    },
    {
     "name": "stderr",
     "output_type": "stream",
     "text": [
      "ERROR: Could not find a version that satisfies the requirement sikit-learn (from versions: none)\n",
      "ERROR: No matching distribution found for sikit-learn\n",
      "\n",
      "[notice] A new release of pip is available: 24.0 -> 24.2\n",
      "[notice] To update, run: python.exe -m pip install --upgrade pip\n"
     ]
    }
   ],
   "source": [
    "!pip install pandas matplotlib sikit-learn pillow"
   ]
  },
  {
   "cell_type": "code",
   "execution_count": 3,
   "metadata": {},
   "outputs": [],
   "source": [
    "import os\n",
    "import pandas as pd\n",
    "import torch\n",
    "from torch.utils.data import Dataset, DataLoader\n",
    "from torchvision import transforms\n",
    "from PIL import Image, ImageDraw\n",
    "import matplotlib.pyplot as plt"
   ]
  },
  {
   "cell_type": "code",
   "execution_count": 4,
   "metadata": {},
   "outputs": [],
   "source": [
    "class MultiLabelDataset(Dataset):\n",
    "    \"\"\"\n",
    "    Custom Dataset class for handling multi-label image data.\n",
    "    data model\n",
    "    \"\"\"\n",
    "    def __init__(self, csv_file, img_dir, transform=None):\n",
    "        \"\"\"\n",
    "        Initialize the dataset.\n",
    "\n",
    "        Parameters:\n",
    "        - csv_file (str): Path to the CSV file containing image labels.\n",
    "        - img_dir (str): Directory where images are stored.\n",
    "        - transform (callable, optional): Optional transform to be applied on an image.\n",
    "        \"\"\"\n",
    "        self.data = pd.read_csv(csv_file)\n",
    "        self.img_dir = img_dir\n",
    "        self.transform = transform\n",
    "        self.classes = ['car', 'truck', 'pedestrian', 'bicyclist', 'light']\n",
    "\n",
    "    def __len__(self):\n",
    "        \"\"\"\n",
    "        Returns the number of unique images in the dataset.\n",
    "        \"\"\"\n",
    "        return len(self.data['frame'].unique())\n",
    "\n",
    "    def __getitem__(self, idx):\n",
    "        \"\"\"\n",
    "        Get an image and its corresponding labels at a given index.\n",
    "\n",
    "        Parameters:\n",
    "        - idx (int): Index of the item to fetch.\n",
    "\n",
    "        Returns:\n",
    "        - image (Tensor): Image tensor after applying transformations (if any).\n",
    "        - labels (Tensor): Tensor of shape (5,) indicating the presence of each class.\n",
    "        \"\"\"\n",
    "        img_name = self.data['frame'].unique()[idx] # Get the image filename at the index\n",
    "        img_data = self.data[self.data['frame'] == img_name] # Filter rows for this image\n",
    "        \n",
    "        image = Image.open(os.path.join(self.img_dir, img_name)).convert('RGB')\n",
    "        draw = ImageDraw.Draw(image)\n",
    "\n",
    "        labels = torch.zeros(5, dtype=torch.float32)\n",
    "        for _, row in img_data.iterrows():\n",
    "            class_id = int(row['class_id']) - 1  # Adjust to 0-based index\n",
    "            labels[class_id] = 1\n",
    "            \n",
    "            # Draw bounding box\n",
    "            draw.rectangle([row['xmin'], row['ymin'], row['xmax'], row['ymax']], outline=\"red\", width=2)\n",
    "\n",
    "        if self.transform:\n",
    "            image = self.transform(image)\n",
    "\n",
    "        return image, labels\n",
    "    \n",
    "    def plot_sample(self, idx):\n",
    "        \"\"\"\n",
    "        Plot a sample image and its labels.\n",
    "\n",
    "        Parameters:\n",
    "        - idx (int): Index of the sample to plot.\n",
    "        \"\"\"\n",
    "        image, labels = self.__getitem__(idx)\n",
    "        plt.imshow(image.permute(1, 2, 0))\n",
    "        plt.title(f\"Labels: {[self.classes[i] for i in range(5) if labels[i] == 1]}\")\n",
    "        plt.axis('off')\n",
    "        plt.show()"
   ]
  },
  {
   "cell_type": "code",
   "execution_count": 5,
   "metadata": {},
   "outputs": [],
   "source": [
    "# Define transforms\n",
    "transform = transforms.Compose([\n",
    "    transforms.Resize((224, 224)),\n",
    "    transforms.ToTensor(),\n",
    "    transforms.Normalize(mean=[0.485, 0.456, 0.406], std=[0.229, 0.224, 0.225])\n",
    "])"
   ]
  },
  {
   "cell_type": "code",
   "execution_count": 6,
   "metadata": {},
   "outputs": [],
   "source": [
    "# Create datasets and dataloaders\n",
    "train_dataset = MultiLabelDataset('Data/labels_train.csv', 'Data/images', transform=transform)\n",
    "val_dataset = MultiLabelDataset('Data/labels_trainval.csv', 'Data/images', transform=transform)\n",
    "test_dataset = MultiLabelDataset('Data/labels_val.csv', 'Data/images', transform=transform)\n"
   ]
  },
  {
   "cell_type": "code",
   "execution_count": 7,
   "metadata": {},
   "outputs": [],
   "source": [
    "# Create dataloaders\n",
    "batch_size = 16  # Adjust based on your GPU memory\n",
    "train_loader = DataLoader(train_dataset, batch_size=batch_size, shuffle=True)\n",
    "val_loader = DataLoader(val_dataset, batch_size=batch_size)\n",
    "test_loader = DataLoader(test_dataset, batch_size=batch_size)\n"
   ]
  },
  {
   "cell_type": "code",
   "execution_count": 8,
   "metadata": {},
   "outputs": [
    {
     "name": "stderr",
     "output_type": "stream",
     "text": [
      "c:\\Users\\sujal\\AppData\\Local\\Programs\\Python\\Python310\\lib\\site-packages\\torchvision\\models\\_utils.py:208: UserWarning: The parameter 'pretrained' is deprecated since 0.13 and may be removed in the future, please use 'weights' instead.\n",
      "  warnings.warn(\n",
      "c:\\Users\\sujal\\AppData\\Local\\Programs\\Python\\Python310\\lib\\site-packages\\torchvision\\models\\_utils.py:223: UserWarning: Arguments other than a weight enum or `None` for 'weights' are deprecated since 0.13 and may be removed in the future. The current behavior is equivalent to passing `weights=ResNet50_Weights.IMAGENET1K_V1`. You can also use `weights=ResNet50_Weights.DEFAULT` to get the most up-to-date weights.\n",
      "  warnings.warn(msg)\n"
     ]
    }
   ],
   "source": [
    "import torchvision.models as models\n",
    "import torch.nn as nn\n",
    "\n",
    "def get_model(num_classes=5):\n",
    "    \"\"\"\n",
    "    Create and return a modified ResNet50 model for multi-label classification.\n",
    "\n",
    "    Parameters:\n",
    "    - num_classes (int): Number of output classes for the final layer.\n",
    "\n",
    "    Returns:\n",
    "    - model (nn.Module): The modified ResNet50 model.\n",
    "    \"\"\"\n",
    "\n",
    "    model = models.resnet50(pretrained=True)\n",
    "    \n",
    "    # Freeze the base model\n",
    "    for param in model.parameters():\n",
    "        param.requires_grad = False\n",
    "    \n",
    "    # Modify the first layer\n",
    "    model.conv1 = nn.Conv2d(3, 64, kernel_size=7, stride=2, padding=3, bias=False)\n",
    "    \n",
    "    # Modify the last layer\n",
    "    in_features = model.fc.in_features\n",
    "    model.fc = nn.Sequential(\n",
    "        nn.Linear(in_features, 256),    #infeatures neuron to 256 neuron\n",
    "        nn.ReLU(),                      #activation function\n",
    "        nn.Dropout(0.5),                #dropout for regularization \n",
    "        nn.Linear(256, num_classes),    # 256 input neuron to 5 neuron \n",
    "        nn.Sigmoid()                    # Sigmoid activation for multi-label classification\n",
    "    )\n",
    "    \n",
    "    return model\n",
    "\n",
    "model = get_model()\n",
    "device = torch.device(\"cuda\" if torch.cuda.is_available() else \"cpu\")\n",
    "model = model.to(device)\n",
    "\n"
   ]
  },
  {
   "cell_type": "code",
   "execution_count": 9,
   "metadata": {},
   "outputs": [],
   "source": [
    "# Define loss function and optimizer\n",
    "criterion = nn.BCELoss()\n",
    "# Define the optimizer to update only the parameters of the modified final layer that is fully connected layer\n",
    "optimizer = torch.optim.Adam(model.fc.parameters(), lr=0.001)"
   ]
  },
  {
   "cell_type": "code",
   "execution_count": 10,
   "metadata": {},
   "outputs": [],
   "source": [
    "def train_model(model, train_loader, val_loader, criterion, optimizer, num_epochs=10,checkpoint_interval=2, checkpoint_dir='./checkpoints'):\n",
    "    \"\"\"\n",
    "    Train the model and validate its performance over several epochs.\n",
    "\n",
    "    Parameters:\n",
    "    - model (nn.Module): The model to train.\n",
    "    - train_loader (DataLoader): DataLoader for the training dataset.\n",
    "    - val_loader (DataLoader): DataLoader for the validation dataset.\n",
    "    - criterion (nn.Module): Loss function used for training.\n",
    "    - optimizer (Optimizer): Optimizer used for updating model weights.\n",
    "    - num_epochs (int): Number of epochs to train the model.\n",
    "    - checkpoint_interval (int): Interval for saving model checkpoints.\n",
    "    - checkpoint_dir (str): Directory to save checkpoints.\n",
    "\n",
    "    Returns:\n",
    "    - train_losses (list): List of training losses per epoch.\n",
    "    - val_losses (list): List of validation losses per epoch.\n",
    "    - train_accuracies (list): List of training accuracies per epoch.\n",
    "    - val_accuracies (list): List of validation accuracies per epoch.\n",
    "    \"\"\"\n",
    "    train_losses, val_losses = [], []\n",
    "    train_accuracies, val_accuracies = [], []\n",
    "    \n",
    "    for epoch in range(num_epochs):\n",
    "        model.train()\n",
    "        train_loss, train_correct, train_total = 0, 0, 0\n",
    "        \n",
    "        for images, labels in train_loader:\n",
    "            images, labels = images.to(device), labels.to(device)\n",
    "            \n",
    "            optimizer.zero_grad()   # Zero the gradients\n",
    "            outputs = model(images) # Forward pass\n",
    "            loss = criterion(outputs, labels)   # Compute loss\n",
    "            loss.backward() # Backward pass\n",
    "            optimizer.step()    # Update model parameters\n",
    "            \n",
    "            train_loss += loss.item()\n",
    "            predicted = (outputs > 0.5).float()\n",
    "            train_correct += (predicted == labels).sum().item()\n",
    "            train_total += labels.numel()\n",
    "        \n",
    "        train_loss /= len(train_loader)\n",
    "        train_accuracy = train_correct / train_total\n",
    "        \n",
    "        # Validation\n",
    "        model.eval()\n",
    "        val_loss, val_correct, val_total = 0, 0, 0\n",
    "        \n",
    "        with torch.no_grad():  # No need to compute gradients during validation\n",
    "            for images, labels in val_loader:\n",
    "                images, labels = images.to(device), labels.to(device)\n",
    "                outputs = model(images)\n",
    "                loss = criterion(outputs, labels)\n",
    "                \n",
    "                val_loss += loss.item()\n",
    "                predicted = (outputs > 0.5).float()\n",
    "                val_correct += (predicted == labels).sum().item()   # Count correct predictions\n",
    "                val_total += labels.numel()\n",
    "        \n",
    "        val_loss /= len(val_loader)     # Average validation loss\n",
    "        val_accuracy = val_correct / val_total      # Validation accuracy\n",
    "        \n",
    "        # Record metrics\n",
    "        train_losses.append(train_loss)\n",
    "        val_losses.append(val_loss)\n",
    "        train_accuracies.append(train_accuracy)\n",
    "        val_accuracies.append(val_accuracy)\n",
    "        \n",
    "        print(f'Epoch {epoch+1}/{num_epochs}, Train Loss: {train_loss:.4f}, Val Loss: {val_loss:.4f}, '\n",
    "              f'Train Acc: {train_accuracy:.4f}, Val Acc: {val_accuracy:.4f}')\n",
    "        \n",
    "        # Checkpointing\n",
    "        if (epoch + 1) % checkpoint_interval == 0 or (epoch + 1) == num_epochs:\n",
    "            checkpoint_path = f'{checkpoint_dir}/model_epoch_{epoch+1}.pth'\n",
    "            torch.save({\n",
    "                'epoch': epoch + 1,\n",
    "                'model_state_dict': model.state_dict(),\n",
    "                'optimizer_state_dict': optimizer.state_dict(),\n",
    "                'train_loss': train_loss,\n",
    "                'val_loss': val_loss,\n",
    "                'train_accuracy': train_accuracy,\n",
    "                'val_accuracy': val_accuracy,\n",
    "            }, checkpoint_path)\n",
    "            print(f'Checkpoint saved at {checkpoint_path}')\n",
    "    \n",
    "    return train_losses, val_losses, train_accuracies, val_accuracies\n"
   ]
  },
  {
   "cell_type": "code",
   "execution_count": 11,
   "metadata": {},
   "outputs": [
    {
     "name": "stdout",
     "output_type": "stream",
     "text": [
      "Epoch 1/10, Train Loss: 0.3477, Val Loss: 0.3181, Train Acc: 0.8574, Val Acc: 0.8606\n",
      "Epoch 2/10, Train Loss: 0.3253, Val Loss: 0.3123, Train Acc: 0.8633, Val Acc: 0.8647\n",
      "Checkpoint saved at ./checkpoints/model_epoch_2.pth\n",
      "Epoch 3/10, Train Loss: 0.3168, Val Loss: 0.3039, Train Acc: 0.8663, Val Acc: 0.8662\n",
      "Epoch 4/10, Train Loss: 0.3120, Val Loss: 0.3033, Train Acc: 0.8668, Val Acc: 0.8648\n",
      "Checkpoint saved at ./checkpoints/model_epoch_4.pth\n",
      "Epoch 5/10, Train Loss: 0.3064, Val Loss: 0.3017, Train Acc: 0.8686, Val Acc: 0.8648\n",
      "Epoch 6/10, Train Loss: 0.3049, Val Loss: 0.2944, Train Acc: 0.8688, Val Acc: 0.8699\n",
      "Checkpoint saved at ./checkpoints/model_epoch_6.pth\n",
      "Epoch 7/10, Train Loss: 0.3025, Val Loss: 0.3001, Train Acc: 0.8693, Val Acc: 0.8671\n",
      "Epoch 8/10, Train Loss: 0.2992, Val Loss: 0.2990, Train Acc: 0.8710, Val Acc: 0.8674\n",
      "Checkpoint saved at ./checkpoints/model_epoch_8.pth\n",
      "Epoch 9/10, Train Loss: 0.2955, Val Loss: 0.2871, Train Acc: 0.8724, Val Acc: 0.8755\n",
      "Epoch 10/10, Train Loss: 0.2961, Val Loss: 0.2926, Train Acc: 0.8730, Val Acc: 0.8712\n",
      "Checkpoint saved at ./checkpoints/model_epoch_10.pth\n"
     ]
    }
   ],
   "source": [
    "# Train the model\n",
    "train_losses, val_losses, train_accuracies, val_accuracies = train_model(model, train_loader, val_loader, criterion, optimizer)\n",
    "\n"
   ]
  },
  {
   "cell_type": "code",
   "execution_count": 17,
   "metadata": {},
   "outputs": [],
   "source": [
    "#saving the model\n",
    "torch.save(model.state_dict(), 'multi_label_classifier.pth')"
   ]
  },
  {
   "cell_type": "code",
   "execution_count": 13,
   "metadata": {},
   "outputs": [
    {
     "data": {
      "image/png": "[encoded data removed]",
      "text/plain": [
       "<Figure size 1200x400 with 2 Axes>"
      ]
     },
     "metadata": {},
     "output_type": "display_data"
    }
   ],
   "source": [
    "# Plot training and validation loss and accuracy\n",
    "plt.figure(figsize=(12, 4))\n",
    "plt.subplot(121)\n",
    "plt.plot(train_losses, label='Train Loss')\n",
    "plt.plot(val_losses, label='Validation Loss')\n",
    "plt.xlabel('Epoch')\n",
    "plt.ylabel('Loss')\n",
    "plt.legend()\n",
    "\n",
    "plt.subplot(122)\n",
    "plt.plot(train_accuracies, label='Train Accuracy')\n",
    "plt.plot(val_accuracies, label='Validation Accuracy')\n",
    "plt.xlabel('Epoch')\n",
    "plt.ylabel('Accuracy')\n",
    "plt.legend()\n",
    "\n",
    "plt.tight_layout()\n",
    "plt.show()"
   ]
  },
  {
   "cell_type": "code",
   "execution_count": 16,
   "metadata": {},
   "outputs": [
    {
     "name": "stdout",
     "output_type": "stream",
     "text": [
      "Precision: 0.9674, Recall: 0.6692, F1 Score: 0.7549\n"
     ]
    }
   ],
   "source": [
    "from sklearn.metrics import precision_score, recall_score, f1_score\n",
    "import numpy as np\n",
    "import torch\n",
    "\n",
    "def calculate_metrics(model, data_loader):\n",
    "    \"\"\"\n",
    "    calculate precision, recall, f1-score\n",
    "    \"\"\"\n",
    "    model.eval()\n",
    "    all_preds, all_labels = [], []\n",
    "    \n",
    "    with torch.no_grad():\n",
    "        for images, labels in data_loader:\n",
    "            images, labels = images.to(device), labels.to(device)\n",
    "            outputs = model(images)\n",
    "            preds = (outputs > 0.5).float()\n",
    "            \n",
    "            all_preds.extend(preds.cpu().numpy())\n",
    "            all_labels.extend(labels.cpu().numpy())\n",
    "    \n",
    "    all_preds = np.array(all_preds)\n",
    "    all_labels = np.array(all_labels)\n",
    "    \n",
    "    precision = precision_score(all_labels, all_preds, average='samples')\n",
    "    recall = recall_score(all_labels, all_preds, average='samples')\n",
    "    f1 = f1_score(all_labels, all_preds, average='samples')\n",
    "    \n",
    "    return precision, recall, f1\n",
    "\n",
    "precision, recall, f1 = calculate_metrics(model, test_loader)\n",
    "print(f'Precision: {precision:.4f}, Recall: {recall:.4f}, F1 Score: {f1:.4f}')\n"
   ]
  },
  {
   "cell_type": "code",
   "execution_count": null,
   "metadata": {},
   "outputs": [],
   "source": []
  }
 ],
 "metadata": {
  "kernelspec": {
   "display_name": "py310",
   "language": "python",
   "name": "python3"
  },
  "language_info": {
   "codemirror_mode": {
    "name": "ipython",
    "version": 3
   },
   "file_extension": ".py",
   "mimetype": "text/x-python",
   "name": "python",
   "nbconvert_exporter": "python",
   "pygments_lexer": "ipython3",
   "version": "3.10.11"
  }
 },
 "nbformat": 4,
 "nbformat_minor": 2
}
